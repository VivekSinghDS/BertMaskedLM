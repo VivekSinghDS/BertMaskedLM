{
 "cells": [
  {
   "cell_type": "code",
   "execution_count": 2,
   "id": "9bfdce8d",
   "metadata": {},
   "outputs": [],
   "source": [
    "# !pip install transformers torch"
   ]
  },
  {
   "cell_type": "code",
   "execution_count": 3,
   "id": "8813228f",
   "metadata": {},
   "outputs": [],
   "source": [
    "from transformers import BertTokenizer, BertForMaskedLM\n",
    "import torch "
   ]
  },
  {
   "cell_type": "code",
   "execution_count": 5,
   "id": "89b1094f",
   "metadata": {},
   "outputs": [
    {
     "name": "stderr",
     "output_type": "stream",
     "text": [
      "Some weights of the model checkpoint at bert-base-uncased were not used when initializing BertForMaskedLM: ['cls.seq_relationship.weight', 'cls.seq_relationship.bias']\n",
      "- This IS expected if you are initializing BertForMaskedLM from the checkpoint of a model trained on another task or with another architecture (e.g. initializing a BertForSequenceClassification model from a BertForPreTraining model).\n",
      "- This IS NOT expected if you are initializing BertForMaskedLM from the checkpoint of a model that you expect to be exactly identical (initializing a BertForSequenceClassification model from a BertForSequenceClassification model).\n"
     ]
    }
   ],
   "source": [
    "tokenizer = BertTokenizer.from_pretrained('bert-base-uncased')\n",
    "model = BertForMaskedLM.from_pretrained('bert-base-uncased')"
   ]
  },
  {
   "cell_type": "code",
   "execution_count": 22,
   "id": "39dfa1da",
   "metadata": {},
   "outputs": [],
   "source": [
    "text = '''Independence Day is celebrated annually on 15 August as a national holiday in India commemorating the nation's independence from the United Kingdom on 15 August 1947, the day when the provisions of the 1947 Indian Independence Act, which transferred legislative sovereignty to the Indian Constituent Assembly, came into effect.India retained King George VI as head of state until its transition to a republic, when the nation adopted the Constitution of India on 26 January 1950 (celebrated as Indian Republic Day) and replaced the dominion prefix, Dominion of India, with the enactment of the sovereign law Constitution of India.India attained independence following the Independence Movement noted for largely non-violent resistance and civil disobedience.'''"
   ]
  },
  {
   "cell_type": "code",
   "execution_count": 23,
   "id": "5ddb8e21",
   "metadata": {},
   "outputs": [],
   "source": [
    "text = text.split('.')"
   ]
  },
  {
   "cell_type": "code",
   "execution_count": 24,
   "id": "6857b84a",
   "metadata": {},
   "outputs": [],
   "source": [
    "text = text[0:len(text)-1]\n",
    "text = tuple(text)"
   ]
  },
  {
   "cell_type": "code",
   "execution_count": 26,
   "id": "c3267852",
   "metadata": {},
   "outputs": [],
   "source": [
    "inputs = tokenizer(text, return_tensors='pt', padding = True)"
   ]
  },
  {
   "cell_type": "code",
   "execution_count": 28,
   "id": "2e304739",
   "metadata": {},
   "outputs": [
    {
     "data": {
      "text/plain": [
       "dict_keys(['input_ids', 'token_type_ids', 'attention_mask'])"
      ]
     },
     "execution_count": 28,
     "metadata": {},
     "output_type": "execute_result"
    }
   ],
   "source": [
    "inputs.keys()"
   ]
  },
  {
   "cell_type": "code",
   "execution_count": 29,
   "id": "9db51f49",
   "metadata": {},
   "outputs": [
    {
     "data": {
      "text/plain": [
       "tensor([[  101,  4336,  2154,  2003,  6334,  6604,  2006,  2321,  2257,  2004,\n",
       "          1037,  2120,  6209,  1999,  2634, 20646,  1996,  3842,  1005,  1055,\n",
       "          4336,  2013,  1996,  2142,  2983,  2006,  2321,  2257,  4006,  1010,\n",
       "          1996,  2154,  2043,  1996,  8910,  1997,  1996,  4006,  2796,  4336,\n",
       "          2552,  1010,  2029,  4015,  4884, 12601,  2000,  1996,  2796, 13794,\n",
       "          3320,  1010,  2234,  2046,  3466,   102,     0],\n",
       "        [  101,  2634,  6025,  2332,  2577,  6819,  2004,  2132,  1997,  2110,\n",
       "          2127,  2049,  6653,  2000,  1037,  3072,  1010,  2043,  1996,  3842,\n",
       "          4233,  1996,  4552,  1997,  2634,  2006,  2656,  2254,  3925,  1006,\n",
       "          6334,  2004,  2796,  3072,  2154,  1007,  1998,  2999,  1996, 13738,\n",
       "         17576,  1010, 13738,  1997,  2634,  1010,  2007,  1996, 26465,  1997,\n",
       "          1996, 11074,  2375,  4552,  1997,  2634,   102],\n",
       "        [  101,  2634, 12754,  4336,  2206,  1996,  4336,  2929,  3264,  2005,\n",
       "          4321,  2512,  1011,  6355,  5012,  1998,  2942,  4487,  6499,  8270,\n",
       "         13684,   102,     0,     0,     0,     0,     0,     0,     0,     0,\n",
       "             0,     0,     0,     0,     0,     0,     0,     0,     0,     0,\n",
       "             0,     0,     0,     0,     0,     0,     0,     0,     0,     0,\n",
       "             0,     0,     0,     0,     0,     0,     0]])"
      ]
     },
     "execution_count": 29,
     "metadata": {},
     "output_type": "execute_result"
    }
   ],
   "source": [
    "inputs.input_ids"
   ]
  },
  {
   "cell_type": "code",
   "execution_count": 32,
   "id": "2248672b",
   "metadata": {},
   "outputs": [],
   "source": [
    "inputs['labels'] = inputs.input_ids.detach().clone()"
   ]
  },
  {
   "cell_type": "code",
   "execution_count": 33,
   "id": "345d01eb",
   "metadata": {},
   "outputs": [],
   "source": [
    "rand = torch.rand(inputs.input_ids.shape)"
   ]
  },
  {
   "cell_type": "code",
   "execution_count": 35,
   "id": "cea8588a",
   "metadata": {},
   "outputs": [
    {
     "data": {
      "text/plain": [
       "torch.Size([3, 57])"
      ]
     },
     "execution_count": 35,
     "metadata": {},
     "output_type": "execute_result"
    }
   ],
   "source": [
    "rand.shape"
   ]
  },
  {
   "cell_type": "code",
   "execution_count": 39,
   "id": "da7f9026",
   "metadata": {},
   "outputs": [
    {
     "data": {
      "text/plain": [
       "tensor([[False, False, False,  True, False,  True, False, False, False, False,\n",
       "         False, False, False, False, False, False, False, False, False, False,\n",
       "         False, False, False,  True, False,  True, False, False, False, False,\n",
       "         False, False, False, False, False, False, False, False, False, False,\n",
       "         False, False, False, False, False,  True, False, False, False, False,\n",
       "         False, False, False, False, False, False, False],\n",
       "        [False, False, False, False, False, False, False, False,  True, False,\n",
       "         False, False, False, False, False, False, False, False, False,  True,\n",
       "         False, False, False, False, False, False, False, False, False, False,\n",
       "         False,  True, False, False, False, False, False, False, False, False,\n",
       "          True,  True, False,  True, False, False, False, False, False, False,\n",
       "          True, False, False, False, False,  True, False],\n",
       "        [False, False, False, False, False, False, False, False, False, False,\n",
       "         False, False,  True, False, False, False, False,  True, False, False,\n",
       "         False, False, False, False, False, False, False, False, False, False,\n",
       "         False, False, False, False, False, False, False, False, False, False,\n",
       "         False, False, False, False, False, False, False, False, False, False,\n",
       "         False, False, False, False, False, False, False]])"
      ]
     },
     "execution_count": 39,
     "metadata": {},
     "output_type": "execute_result"
    }
   ],
   "source": [
    "mask_arr = (rand<0.15) * (inputs.input_ids!=101) * (inputs.input_ids!=102) * (inputs.input_ids!=0)\n",
    "mask_arr"
   ]
  },
  {
   "cell_type": "code",
   "execution_count": 43,
   "id": "9c315ebb",
   "metadata": {},
   "outputs": [],
   "source": [
    "selection = torch.flatten(mask_arr[0].nonzero()).tolist()"
   ]
  },
  {
   "cell_type": "code",
   "execution_count": 51,
   "id": "fbcce491",
   "metadata": {},
   "outputs": [],
   "source": [
    "inputs.input_ids[0, selection] = 103"
   ]
  },
  {
   "cell_type": "code",
   "execution_count": 52,
   "id": "f591e5ef",
   "metadata": {},
   "outputs": [
    {
     "data": {
      "text/plain": [
       "tensor([[  101,  4336,  2154,   103,  6334,   103,  2006,  2321,  2257,  2004,\n",
       "          1037,  2120,  6209,  1999,  2634, 20646,  1996,  3842,  1005,  1055,\n",
       "          4336,  2013,  1996,   103,  2983,   103,  2321,  2257,  4006,  1010,\n",
       "          1996,  2154,  2043,  1996,  8910,  1997,  1996,  4006,  2796,  4336,\n",
       "          2552,  1010,  2029,  4015,  4884,   103,  2000,  1996,  2796, 13794,\n",
       "          3320,  1010,  2234,  2046,  3466,   102,     0],\n",
       "        [  101,  2634,  6025,  2332,  2577,  6819,  2004,  2132,  1997,  2110,\n",
       "          2127,  2049,  6653,  2000,  1037,  3072,  1010,  2043,  1996,  3842,\n",
       "          4233,  1996,  4552,  1997,  2634,  2006,  2656,  2254,  3925,  1006,\n",
       "          6334,  2004,  2796,  3072,  2154,  1007,  1998,  2999,  1996, 13738,\n",
       "         17576,  1010, 13738,  1997,  2634,  1010,  2007,  1996, 26465,  1997,\n",
       "          1996, 11074,  2375,  4552,  1997,  2634,   102],\n",
       "        [  101,  2634, 12754,  4336,  2206,  1996,  4336,  2929,  3264,  2005,\n",
       "          4321,  2512,  1011,  6355,  5012,  1998,  2942,  4487,  6499,  8270,\n",
       "         13684,   102,     0,     0,     0,     0,     0,     0,     0,     0,\n",
       "             0,     0,     0,     0,     0,     0,     0,     0,     0,     0,\n",
       "             0,     0,     0,     0,     0,     0,     0,     0,     0,     0,\n",
       "             0,     0,     0,     0,     0,     0,     0]])"
      ]
     },
     "execution_count": 52,
     "metadata": {},
     "output_type": "execute_result"
    }
   ],
   "source": [
    "inputs.input_ids"
   ]
  },
  {
   "cell_type": "code",
   "execution_count": 65,
   "id": "64e39c10",
   "metadata": {},
   "outputs": [],
   "source": [
    "output = model(**inputs)"
   ]
  },
  {
   "cell_type": "code",
   "execution_count": 66,
   "id": "150e728a",
   "metadata": {},
   "outputs": [
    {
     "data": {
      "text/plain": [
       "MaskedLMOutput(loss=tensor(5.3161, grad_fn=<NllLossBackward>), logits=tensor([[[ -6.7807,  -6.7796,  -6.8050,  ...,  -6.1793,  -5.9404,  -4.3070],\n",
       "         [ -9.7692,  -9.6230,  -9.5597,  ..., -10.5110,  -8.2500,  -8.6564],\n",
       "         [-13.5322, -13.8062, -13.5406,  ..., -11.1229, -11.8846, -13.1268],\n",
       "         ...,\n",
       "         [ -7.5839,  -7.3558,  -7.3843,  ...,  -6.2852,  -7.0611,  -6.7315],\n",
       "         [-13.8872, -13.6713, -13.6778,  ..., -12.0400, -12.3265, -11.2298],\n",
       "         [ -8.4752,  -8.6548,  -8.5007,  ...,  -8.0214,  -8.7565,  -4.4111]],\n",
       "\n",
       "        [[ -7.9836,  -8.0838,  -7.9971,  ...,  -7.2617,  -7.0774,  -4.8206],\n",
       "         [ -8.5081,  -8.5799,  -8.5730,  ...,  -8.5265,  -7.4636,  -6.2909],\n",
       "         [ -5.3238,  -5.1884,  -4.8106,  ...,  -5.8731,  -2.1354,  -3.0779],\n",
       "         ...,\n",
       "         [-13.3884, -14.1057, -13.3856,  ..., -13.0293,  -9.7378,  -9.6451],\n",
       "         [-11.1971, -11.7242, -11.7200,  ..., -11.2895,  -9.1043,  -8.0491],\n",
       "         [-11.5078, -11.5522, -11.5823,  ..., -10.5676, -11.3902,  -6.2886]],\n",
       "\n",
       "        [[ -7.8683,  -7.9057,  -7.8653,  ...,  -7.0407,  -6.8472,  -4.8767],\n",
       "         [ -9.8603,  -9.8418,  -9.8242,  ...,  -9.3267,  -8.3390,  -7.3158],\n",
       "         [-10.0828, -10.0264,  -9.6951,  ..., -10.1329,  -6.7508, -10.3735],\n",
       "         ...,\n",
       "         [ -6.0518,  -6.7182,  -6.0473,  ...,  -5.1995,  -5.8807,  -6.8785],\n",
       "         [ -6.5282,  -7.0771,  -6.5155,  ...,  -5.6617,  -6.3919,  -7.2971],\n",
       "         [ -6.3026,  -6.6881,  -6.0911,  ...,  -6.1859,  -6.4448,  -6.4728]]],\n",
       "       grad_fn=<AddBackward0>), hidden_states=None, attentions=None)"
      ]
     },
     "execution_count": 66,
     "metadata": {},
     "output_type": "execute_result"
    }
   ],
   "source": [
    "output"
   ]
  },
  {
   "cell_type": "code",
   "execution_count": null,
   "id": "929fea94",
   "metadata": {},
   "outputs": [],
   "source": []
  },
  {
   "cell_type": "code",
   "execution_count": null,
   "id": "9e066142",
   "metadata": {},
   "outputs": [],
   "source": []
  },
  {
   "cell_type": "code",
   "execution_count": null,
   "id": "09272fc9",
   "metadata": {},
   "outputs": [],
   "source": []
  }
 ],
 "metadata": {
  "kernelspec": {
   "display_name": "Python 3",
   "language": "python",
   "name": "python3"
  },
  "language_info": {
   "codemirror_mode": {
    "name": "ipython",
    "version": 3
   },
   "file_extension": ".py",
   "mimetype": "text/x-python",
   "name": "python",
   "nbconvert_exporter": "python",
   "pygments_lexer": "ipython3",
   "version": "3.8.8"
  }
 },
 "nbformat": 4,
 "nbformat_minor": 5
}
